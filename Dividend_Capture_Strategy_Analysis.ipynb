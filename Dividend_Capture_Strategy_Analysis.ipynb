{
  "cells": [
    {
      "cell_type": "markdown",
      "id": "2dc662ae",
      "metadata": {
        "id": "2dc662ae"
      },
      "source": [
        "<h1> Dividend Capture Strategy Analysis </h1>"
      ]
    },
    {
      "cell_type": "code",
      "execution_count": null,
      "id": "1880401c",
      "metadata": {
        "id": "1880401c",
        "outputId": "2c5dc94a-46e8-4814-bbb6-462513db0ac8"
      },
      "outputs": [
        {
          "data": {
            "text/plain": [
              "'C:\\\\Users\\\\shaneshe\\\\OneDrive - USC Marshall School of Business\\\\FBE 551 Fall 2024'"
            ]
          },
          "execution_count": 1,
          "metadata": {},
          "output_type": "execute_result"
        }
      ],
      "source": [
        "import pandas as pd\n",
        "import numpy as np\n",
        "import os\n",
        "import datetime\n",
        "os.getcwd()"
      ]
    },
    {
      "cell_type": "markdown",
      "id": "6584c8e4",
      "metadata": {
        "id": "6584c8e4"
      },
      "source": [
        "Let's read in our dataset and look at its structure. We have company identifiers, dates, and then information about the company and the dividend event. Note that we don't have consecutive dates; we have only isolated dates that correspond to an \"event\" -- the payment of a dividend."
      ]
    },
    {
      "cell_type": "code",
      "execution_count": null,
      "id": "59e0ae20",
      "metadata": {
        "id": "59e0ae20",
        "outputId": "35ea71b8-be36-4a72-ade0-f689dd26f8bd"
      },
      "outputs": [
        {
          "data": {
            "text/html": [
              "<div>\n",
              "<style scoped>\n",
              "    .dataframe tbody tr th:only-of-type {\n",
              "        vertical-align: middle;\n",
              "    }\n",
              "\n",
              "    .dataframe tbody tr th {\n",
              "        vertical-align: top;\n",
              "    }\n",
              "\n",
              "    .dataframe thead th {\n",
              "        text-align: right;\n",
              "    }\n",
              "</style>\n",
              "<table border=\"1\" class=\"dataframe\">\n",
              "  <thead>\n",
              "    <tr style=\"text-align: right;\">\n",
              "      <th></th>\n",
              "      <th>PERMNO</th>\n",
              "      <th>date</th>\n",
              "      <th>SHRCD</th>\n",
              "      <th>PERMCO</th>\n",
              "      <th>DISTCD</th>\n",
              "      <th>DIVAMT</th>\n",
              "      <th>PRC</th>\n",
              "      <th>VOL</th>\n",
              "      <th>RET</th>\n",
              "      <th>BID</th>\n",
              "      <th>ASK</th>\n",
              "      <th>SHROUT</th>\n",
              "      <th>OPENPRC</th>\n",
              "      <th>RETX</th>\n",
              "      <th>vwretd</th>\n",
              "    </tr>\n",
              "  </thead>\n",
              "  <tbody>\n",
              "    <tr>\n",
              "      <th>0</th>\n",
              "      <td>10001</td>\n",
              "      <td>1986-03-10</td>\n",
              "      <td>11</td>\n",
              "      <td>7953</td>\n",
              "      <td>1232</td>\n",
              "      <td>0.095</td>\n",
              "      <td>-6.2500</td>\n",
              "      <td>100.0</td>\n",
              "      <td>0.015200</td>\n",
              "      <td>NaN</td>\n",
              "      <td>NaN</td>\n",
              "      <td>985.0</td>\n",
              "      <td>NaN</td>\n",
              "      <td>0.000000</td>\n",
              "      <td>0.004365</td>\n",
              "    </tr>\n",
              "    <tr>\n",
              "      <th>1</th>\n",
              "      <td>10001</td>\n",
              "      <td>1986-06-09</td>\n",
              "      <td>11</td>\n",
              "      <td>7953</td>\n",
              "      <td>1232</td>\n",
              "      <td>0.105</td>\n",
              "      <td>-6.1875</td>\n",
              "      <td>1050.0</td>\n",
              "      <td>0.016970</td>\n",
              "      <td>NaN</td>\n",
              "      <td>NaN</td>\n",
              "      <td>985.0</td>\n",
              "      <td>NaN</td>\n",
              "      <td>0.000000</td>\n",
              "      <td>-0.019374</td>\n",
              "    </tr>\n",
              "    <tr>\n",
              "      <th>2</th>\n",
              "      <td>10001</td>\n",
              "      <td>1986-09-08</td>\n",
              "      <td>11</td>\n",
              "      <td>7953</td>\n",
              "      <td>1232</td>\n",
              "      <td>0.105</td>\n",
              "      <td>6.7500</td>\n",
              "      <td>1610.0</td>\n",
              "      <td>0.054615</td>\n",
              "      <td>6.375</td>\n",
              "      <td>6.75</td>\n",
              "      <td>985.0</td>\n",
              "      <td>NaN</td>\n",
              "      <td>0.038462</td>\n",
              "      <td>-0.010801</td>\n",
              "    </tr>\n",
              "    <tr>\n",
              "      <th>3</th>\n",
              "      <td>10001</td>\n",
              "      <td>1986-12-08</td>\n",
              "      <td>11</td>\n",
              "      <td>7953</td>\n",
              "      <td>1232</td>\n",
              "      <td>0.105</td>\n",
              "      <td>6.5000</td>\n",
              "      <td>400.0</td>\n",
              "      <td>0.016154</td>\n",
              "      <td>6.500</td>\n",
              "      <td>7.00</td>\n",
              "      <td>991.0</td>\n",
              "      <td>NaN</td>\n",
              "      <td>0.000000</td>\n",
              "      <td>-0.000944</td>\n",
              "    </tr>\n",
              "    <tr>\n",
              "      <th>4</th>\n",
              "      <td>10001</td>\n",
              "      <td>1987-03-09</td>\n",
              "      <td>11</td>\n",
              "      <td>7953</td>\n",
              "      <td>1232</td>\n",
              "      <td>0.105</td>\n",
              "      <td>6.1250</td>\n",
              "      <td>650.0</td>\n",
              "      <td>0.027629</td>\n",
              "      <td>5.875</td>\n",
              "      <td>6.25</td>\n",
              "      <td>991.0</td>\n",
              "      <td>NaN</td>\n",
              "      <td>0.010309</td>\n",
              "      <td>-0.006488</td>\n",
              "    </tr>\n",
              "    <tr>\n",
              "      <th>...</th>\n",
              "      <td>...</td>\n",
              "      <td>...</td>\n",
              "      <td>...</td>\n",
              "      <td>...</td>\n",
              "      <td>...</td>\n",
              "      <td>...</td>\n",
              "      <td>...</td>\n",
              "      <td>...</td>\n",
              "      <td>...</td>\n",
              "      <td>...</td>\n",
              "      <td>...</td>\n",
              "      <td>...</td>\n",
              "      <td>...</td>\n",
              "      <td>...</td>\n",
              "      <td>...</td>\n",
              "    </tr>\n",
              "    <tr>\n",
              "      <th>458215</th>\n",
              "      <td>93429</td>\n",
              "      <td>2022-05-27</td>\n",
              "      <td>11</td>\n",
              "      <td>53447</td>\n",
              "      <td>1232</td>\n",
              "      <td>0.480</td>\n",
              "      <td>111.8500</td>\n",
              "      <td>491916.0</td>\n",
              "      <td>0.026782</td>\n",
              "      <td>111.620</td>\n",
              "      <td>111.70</td>\n",
              "      <td>106172.0</td>\n",
              "      <td>109.29</td>\n",
              "      <td>0.022395</td>\n",
              "      <td>0.024482</td>\n",
              "    </tr>\n",
              "    <tr>\n",
              "      <th>458216</th>\n",
              "      <td>93429</td>\n",
              "      <td>2022-08-30</td>\n",
              "      <td>11</td>\n",
              "      <td>53447</td>\n",
              "      <td>1232</td>\n",
              "      <td>0.480</td>\n",
              "      <td>117.7800</td>\n",
              "      <td>825426.0</td>\n",
              "      <td>-0.017203</td>\n",
              "      <td>117.940</td>\n",
              "      <td>117.99</td>\n",
              "      <td>106189.0</td>\n",
              "      <td>119.83</td>\n",
              "      <td>-0.021192</td>\n",
              "      <td>-0.011447</td>\n",
              "    </tr>\n",
              "    <tr>\n",
              "      <th>458217</th>\n",
              "      <td>93429</td>\n",
              "      <td>2022-11-29</td>\n",
              "      <td>11</td>\n",
              "      <td>53447</td>\n",
              "      <td>1232</td>\n",
              "      <td>0.500</td>\n",
              "      <td>123.2500</td>\n",
              "      <td>555365.0</td>\n",
              "      <td>-0.007379</td>\n",
              "      <td>123.250</td>\n",
              "      <td>123.27</td>\n",
              "      <td>106062.0</td>\n",
              "      <td>124.44</td>\n",
              "      <td>-0.011390</td>\n",
              "      <td>-0.000744</td>\n",
              "    </tr>\n",
              "    <tr>\n",
              "      <th>458218</th>\n",
              "      <td>93429</td>\n",
              "      <td>2023-02-27</td>\n",
              "      <td>11</td>\n",
              "      <td>53447</td>\n",
              "      <td>1232</td>\n",
              "      <td>0.500</td>\n",
              "      <td>127.5800</td>\n",
              "      <td>577552.0</td>\n",
              "      <td>-0.012414</td>\n",
              "      <td>127.410</td>\n",
              "      <td>127.59</td>\n",
              "      <td>106082.0</td>\n",
              "      <td>129.64</td>\n",
              "      <td>-0.016270</td>\n",
              "      <td>0.003326</td>\n",
              "    </tr>\n",
              "    <tr>\n",
              "      <th>458219</th>\n",
              "      <td>93429</td>\n",
              "      <td>2023-05-30</td>\n",
              "      <td>11</td>\n",
              "      <td>53447</td>\n",
              "      <td>1232</td>\n",
              "      <td>0.500</td>\n",
              "      <td>132.3100</td>\n",
              "      <td>652965.0</td>\n",
              "      <td>-0.007177</td>\n",
              "      <td>132.300</td>\n",
              "      <td>132.31</td>\n",
              "      <td>105743.0</td>\n",
              "      <td>132.27</td>\n",
              "      <td>-0.010914</td>\n",
              "      <td>-0.000230</td>\n",
              "    </tr>\n",
              "  </tbody>\n",
              "</table>\n",
              "<p>458220 rows × 15 columns</p>\n",
              "</div>"
            ],
            "text/plain": [
              "        PERMNO       date  SHRCD  PERMCO  DISTCD  DIVAMT       PRC       VOL  \\\n",
              "0        10001 1986-03-10     11    7953    1232   0.095   -6.2500     100.0   \n",
              "1        10001 1986-06-09     11    7953    1232   0.105   -6.1875    1050.0   \n",
              "2        10001 1986-09-08     11    7953    1232   0.105    6.7500    1610.0   \n",
              "3        10001 1986-12-08     11    7953    1232   0.105    6.5000     400.0   \n",
              "4        10001 1987-03-09     11    7953    1232   0.105    6.1250     650.0   \n",
              "...        ...        ...    ...     ...     ...     ...       ...       ...   \n",
              "458215   93429 2022-05-27     11   53447    1232   0.480  111.8500  491916.0   \n",
              "458216   93429 2022-08-30     11   53447    1232   0.480  117.7800  825426.0   \n",
              "458217   93429 2022-11-29     11   53447    1232   0.500  123.2500  555365.0   \n",
              "458218   93429 2023-02-27     11   53447    1232   0.500  127.5800  577552.0   \n",
              "458219   93429 2023-05-30     11   53447    1232   0.500  132.3100  652965.0   \n",
              "\n",
              "             RET      BID     ASK    SHROUT  OPENPRC      RETX    vwretd  \n",
              "0       0.015200      NaN     NaN     985.0      NaN  0.000000  0.004365  \n",
              "1       0.016970      NaN     NaN     985.0      NaN  0.000000 -0.019374  \n",
              "2       0.054615    6.375    6.75     985.0      NaN  0.038462 -0.010801  \n",
              "3       0.016154    6.500    7.00     991.0      NaN  0.000000 -0.000944  \n",
              "4       0.027629    5.875    6.25     991.0      NaN  0.010309 -0.006488  \n",
              "...          ...      ...     ...       ...      ...       ...       ...  \n",
              "458215  0.026782  111.620  111.70  106172.0   109.29  0.022395  0.024482  \n",
              "458216 -0.017203  117.940  117.99  106189.0   119.83 -0.021192 -0.011447  \n",
              "458217 -0.007379  123.250  123.27  106062.0   124.44 -0.011390 -0.000744  \n",
              "458218 -0.012414  127.410  127.59  106082.0   129.64 -0.016270  0.003326  \n",
              "458219 -0.007177  132.300  132.31  105743.0   132.27 -0.010914 -0.000230  \n",
              "\n",
              "[458220 rows x 15 columns]"
            ]
          },
          "execution_count": 2,
          "metadata": {},
          "output_type": "execute_result"
        }
      ],
      "source": [
        "div = pd.read_csv('CRSP_Dividends.csv',parse_dates=[1])\n",
        "div"
      ]
    },
    {
      "cell_type": "markdown",
      "id": "372f5f0c",
      "metadata": {
        "id": "372f5f0c"
      },
      "source": [
        "__Step 1: Clean and describe the data__"
      ]
    },
    {
      "cell_type": "markdown",
      "id": "915eed08",
      "metadata": {
        "id": "915eed08"
      },
      "source": [
        "Here I am going to remove all cases where there is zero volume traded. We are trying to see the daily price response to the payment of a dividend, and if there are no trades then we can't expect to get a reliable indicator of the true price, or what price we might have actually been able to trade at. In general it's best to remove circumstances like this, with no liquidity, from your analysis.\n",
        "\n",
        "I'm also calculating the prior closing price using the RETX (price return without dividend). It's important to use that rather than the RET, which includes the dividend as part of the return and would therefore deliver a faulty prior closing price.\n",
        "\n",
        "Otherwise, calculating market capitalization and some cleanup as described by the question."
      ]
    },
    {
      "cell_type": "code",
      "execution_count": null,
      "id": "75361a2f",
      "metadata": {
        "id": "75361a2f"
      },
      "outputs": [],
      "source": [
        "div=div[div['VOL']>0]\n",
        "div=div[div['DIVAMT']>0.01]\n",
        "div['PRC']=abs(div['PRC'])\n",
        "div['PriorClose'] = div['PRC']/(1+div['RETX'])\n",
        "div['mkcap']=div['SHROUT']*div['PRC']\n",
        "div=div[div['mkcap'] > 50000]"
      ]
    },
    {
      "cell_type": "markdown",
      "id": "dbc58ef8",
      "metadata": {
        "id": "dbc58ef8"
      },
      "source": [
        "__Step 2. Examine price change relative to dividend__\n",
        "\n",
        "We can now look at the ratio between the price change and the dividend amount. Our prediction, consistent with the literature, is that the price change should be less than the dividend amount, and this ratio should be less than 1.\n",
        "\n",
        "Also calculating the stock yield (based upon this single dividend payment), the spread, and the year of the event."
      ]
    },
    {
      "cell_type": "code",
      "execution_count": null,
      "id": "bceafa93",
      "metadata": {
        "id": "bceafa93"
      },
      "outputs": [],
      "source": [
        "div['ratio'] = (div['PriorClose']-div['PRC'])/div['DIVAMT']\n",
        "div['yield']=div['DIVAMT']/div['PriorClose']\n",
        "div['spread']=2*(div['ASK']-div['BID'])/(div['ASK']+div['BID'])\n",
        "div['year']=pd.DatetimeIndex(div['date']).year"
      ]
    },
    {
      "cell_type": "code",
      "execution_count": null,
      "id": "bbdf55b6",
      "metadata": {
        "id": "bbdf55b6",
        "outputId": "fb8b9665-c239-4b53-bc34-d0b6e32119f4"
      },
      "outputs": [
        {
          "data": {
            "text/html": [
              "<div>\n",
              "<style scoped>\n",
              "    .dataframe tbody tr th:only-of-type {\n",
              "        vertical-align: middle;\n",
              "    }\n",
              "\n",
              "    .dataframe tbody tr th {\n",
              "        vertical-align: top;\n",
              "    }\n",
              "\n",
              "    .dataframe thead th {\n",
              "        text-align: right;\n",
              "    }\n",
              "</style>\n",
              "<table border=\"1\" class=\"dataframe\">\n",
              "  <thead>\n",
              "    <tr style=\"text-align: right;\">\n",
              "      <th></th>\n",
              "      <th>PERMNO</th>\n",
              "      <th>date</th>\n",
              "      <th>SHRCD</th>\n",
              "      <th>PERMCO</th>\n",
              "      <th>DISTCD</th>\n",
              "      <th>DIVAMT</th>\n",
              "      <th>PRC</th>\n",
              "      <th>VOL</th>\n",
              "      <th>RET</th>\n",
              "      <th>BID</th>\n",
              "      <th>...</th>\n",
              "      <th>SHROUT</th>\n",
              "      <th>OPENPRC</th>\n",
              "      <th>RETX</th>\n",
              "      <th>vwretd</th>\n",
              "      <th>PriorClose</th>\n",
              "      <th>mkcap</th>\n",
              "      <th>ratio</th>\n",
              "      <th>yield</th>\n",
              "      <th>spread</th>\n",
              "      <th>year</th>\n",
              "    </tr>\n",
              "  </thead>\n",
              "  <tbody>\n",
              "    <tr>\n",
              "      <th>count</th>\n",
              "      <td>320489.000000</td>\n",
              "      <td>320489</td>\n",
              "      <td>320489.000000</td>\n",
              "      <td>320489.000000</td>\n",
              "      <td>320489.000000</td>\n",
              "      <td>320489.000000</td>\n",
              "      <td>320489.000000</td>\n",
              "      <td>3.204890e+05</td>\n",
              "      <td>320489.000000</td>\n",
              "      <td>190722.000000</td>\n",
              "      <td>...</td>\n",
              "      <td>3.204890e+05</td>\n",
              "      <td>179759.000000</td>\n",
              "      <td>320489.000000</td>\n",
              "      <td>320489.000000</td>\n",
              "      <td>320489.000000</td>\n",
              "      <td>3.204890e+05</td>\n",
              "      <td>320489.000000</td>\n",
              "      <td>320489.000000</td>\n",
              "      <td>190722.000000</td>\n",
              "      <td>320489.000000</td>\n",
              "    </tr>\n",
              "    <tr>\n",
              "      <th>mean</th>\n",
              "      <td>47158.684828</td>\n",
              "      <td>1994-12-21 10:32:54.170720128</td>\n",
              "      <td>10.871244</td>\n",
              "      <td>19179.751882</td>\n",
              "      <td>1232.683477</td>\n",
              "      <td>0.254771</td>\n",
              "      <td>37.423163</td>\n",
              "      <td>6.451611e+05</td>\n",
              "      <td>0.002416</td>\n",
              "      <td>39.898161</td>\n",
              "      <td>...</td>\n",
              "      <td>1.042941e+05</td>\n",
              "      <td>41.184210</td>\n",
              "      <td>-0.005926</td>\n",
              "      <td>0.000428</td>\n",
              "      <td>37.616329</td>\n",
              "      <td>5.243444e+06</td>\n",
              "      <td>0.648548</td>\n",
              "      <td>0.008033</td>\n",
              "      <td>0.010531</td>\n",
              "      <td>1994.459535</td>\n",
              "    </tr>\n",
              "    <tr>\n",
              "      <th>min</th>\n",
              "      <td>10001.000000</td>\n",
              "      <td>1962-01-02 00:00:00</td>\n",
              "      <td>10.000000</td>\n",
              "      <td>4.000000</td>\n",
              "      <td>1202.000000</td>\n",
              "      <td>0.010800</td>\n",
              "      <td>1.010000</td>\n",
              "      <td>1.000000e+00</td>\n",
              "      <td>-0.729864</td>\n",
              "      <td>1.000000</td>\n",
              "      <td>...</td>\n",
              "      <td>1.910000e+02</td>\n",
              "      <td>0.500000</td>\n",
              "      <td>-0.878553</td>\n",
              "      <td>-0.171346</td>\n",
              "      <td>1.062500</td>\n",
              "      <td>5.000212e+04</td>\n",
              "      <td>-485.002094</td>\n",
              "      <td>0.000071</td>\n",
              "      <td>-0.026612</td>\n",
              "      <td>1962.000000</td>\n",
              "    </tr>\n",
              "    <tr>\n",
              "      <th>25%</th>\n",
              "      <td>22939.000000</td>\n",
              "      <td>1982-10-08 00:00:00</td>\n",
              "      <td>11.000000</td>\n",
              "      <td>9452.000000</td>\n",
              "      <td>1232.000000</td>\n",
              "      <td>0.100000</td>\n",
              "      <td>18.750000</td>\n",
              "      <td>5.700000e+03</td>\n",
              "      <td>-0.008239</td>\n",
              "      <td>17.990000</td>\n",
              "      <td>...</td>\n",
              "      <td>7.688000e+03</td>\n",
              "      <td>18.375000</td>\n",
              "      <td>-0.017045</td>\n",
              "      <td>-0.003954</td>\n",
              "      <td>18.910004</td>\n",
              "      <td>1.671334e+05</td>\n",
              "      <td>-0.833333</td>\n",
              "      <td>0.003783</td>\n",
              "      <td>0.000576</td>\n",
              "      <td>1982.000000</td>\n",
              "    </tr>\n",
              "    <tr>\n",
              "      <th>50%</th>\n",
              "      <td>44169.000000</td>\n",
              "      <td>1995-05-22 00:00:00</td>\n",
              "      <td>11.000000</td>\n",
              "      <td>20836.000000</td>\n",
              "      <td>1232.000000</td>\n",
              "      <td>0.190000</td>\n",
              "      <td>28.250000</td>\n",
              "      <td>3.465100e+04</td>\n",
              "      <td>0.002124</td>\n",
              "      <td>28.000000</td>\n",
              "      <td>...</td>\n",
              "      <td>2.005600e+04</td>\n",
              "      <td>28.890000</td>\n",
              "      <td>-0.005450</td>\n",
              "      <td>0.000806</td>\n",
              "      <td>28.499999</td>\n",
              "      <td>5.290920e+05</td>\n",
              "      <td>0.736928</td>\n",
              "      <td>0.006494</td>\n",
              "      <td>0.003712</td>\n",
              "      <td>1995.000000</td>\n",
              "    </tr>\n",
              "    <tr>\n",
              "      <th>75%</th>\n",
              "      <td>75257.000000</td>\n",
              "      <td>2008-04-16 00:00:00</td>\n",
              "      <td>11.000000</td>\n",
              "      <td>22426.000000</td>\n",
              "      <td>1232.000000</td>\n",
              "      <td>0.320000</td>\n",
              "      <td>43.000000</td>\n",
              "      <td>2.655000e+05</td>\n",
              "      <td>0.012203</td>\n",
              "      <td>44.750000</td>\n",
              "      <td>...</td>\n",
              "      <td>6.089400e+04</td>\n",
              "      <td>46.270000</td>\n",
              "      <td>0.005000</td>\n",
              "      <td>0.005240</td>\n",
              "      <td>43.170016</td>\n",
              "      <td>2.115568e+06</td>\n",
              "      <td>2.272679</td>\n",
              "      <td>0.010063</td>\n",
              "      <td>0.014440</td>\n",
              "      <td>2008.000000</td>\n",
              "    </tr>\n",
              "    <tr>\n",
              "      <th>max</th>\n",
              "      <td>93429.000000</td>\n",
              "      <td>2023-06-30 00:00:00</td>\n",
              "      <td>11.000000</td>\n",
              "      <td>59543.000000</td>\n",
              "      <td>1294.000000</td>\n",
              "      <td>85.000000</td>\n",
              "      <td>4280.040040</td>\n",
              "      <td>2.561843e+08</td>\n",
              "      <td>0.696822</td>\n",
              "      <td>4261.959960</td>\n",
              "      <td>...</td>\n",
              "      <td>1.700180e+07</td>\n",
              "      <td>4411.959960</td>\n",
              "      <td>0.691589</td>\n",
              "      <td>0.114921</td>\n",
              "      <td>4380.000409</td>\n",
              "      <td>2.813308e+09</td>\n",
              "      <td>922.868789</td>\n",
              "      <td>1.566870</td>\n",
              "      <td>1.173271</td>\n",
              "      <td>2023.000000</td>\n",
              "    </tr>\n",
              "    <tr>\n",
              "      <th>std</th>\n",
              "      <td>26545.149942</td>\n",
              "      <td>NaN</td>\n",
              "      <td>0.334931</td>\n",
              "      <td>12193.527648</td>\n",
              "      <td>5.642725</td>\n",
              "      <td>0.503116</td>\n",
              "      <td>54.863435</td>\n",
              "      <td>3.138198e+06</td>\n",
              "      <td>0.022563</td>\n",
              "      <td>67.700987</td>\n",
              "      <td>...</td>\n",
              "      <td>4.242660e+05</td>\n",
              "      <td>69.879625</td>\n",
              "      <td>0.025558</td>\n",
              "      <td>0.010167</td>\n",
              "      <td>54.989400</td>\n",
              "      <td>2.998982e+07</td>\n",
              "      <td>9.395435</td>\n",
              "      <td>0.012393</td>\n",
              "      <td>0.016576</td>\n",
              "      <td>16.401700</td>\n",
              "    </tr>\n",
              "  </tbody>\n",
              "</table>\n",
              "<p>8 rows × 21 columns</p>\n",
              "</div>"
            ],
            "text/plain": [
              "              PERMNO                           date          SHRCD  \\\n",
              "count  320489.000000                         320489  320489.000000   \n",
              "mean    47158.684828  1994-12-21 10:32:54.170720128      10.871244   \n",
              "min     10001.000000            1962-01-02 00:00:00      10.000000   \n",
              "25%     22939.000000            1982-10-08 00:00:00      11.000000   \n",
              "50%     44169.000000            1995-05-22 00:00:00      11.000000   \n",
              "75%     75257.000000            2008-04-16 00:00:00      11.000000   \n",
              "max     93429.000000            2023-06-30 00:00:00      11.000000   \n",
              "std     26545.149942                            NaN       0.334931   \n",
              "\n",
              "              PERMCO         DISTCD         DIVAMT            PRC  \\\n",
              "count  320489.000000  320489.000000  320489.000000  320489.000000   \n",
              "mean    19179.751882    1232.683477       0.254771      37.423163   \n",
              "min         4.000000    1202.000000       0.010800       1.010000   \n",
              "25%      9452.000000    1232.000000       0.100000      18.750000   \n",
              "50%     20836.000000    1232.000000       0.190000      28.250000   \n",
              "75%     22426.000000    1232.000000       0.320000      43.000000   \n",
              "max     59543.000000    1294.000000      85.000000    4280.040040   \n",
              "std     12193.527648       5.642725       0.503116      54.863435   \n",
              "\n",
              "                VOL            RET            BID  ...        SHROUT  \\\n",
              "count  3.204890e+05  320489.000000  190722.000000  ...  3.204890e+05   \n",
              "mean   6.451611e+05       0.002416      39.898161  ...  1.042941e+05   \n",
              "min    1.000000e+00      -0.729864       1.000000  ...  1.910000e+02   \n",
              "25%    5.700000e+03      -0.008239      17.990000  ...  7.688000e+03   \n",
              "50%    3.465100e+04       0.002124      28.000000  ...  2.005600e+04   \n",
              "75%    2.655000e+05       0.012203      44.750000  ...  6.089400e+04   \n",
              "max    2.561843e+08       0.696822    4261.959960  ...  1.700180e+07   \n",
              "std    3.138198e+06       0.022563      67.700987  ...  4.242660e+05   \n",
              "\n",
              "             OPENPRC           RETX         vwretd     PriorClose  \\\n",
              "count  179759.000000  320489.000000  320489.000000  320489.000000   \n",
              "mean       41.184210      -0.005926       0.000428      37.616329   \n",
              "min         0.500000      -0.878553      -0.171346       1.062500   \n",
              "25%        18.375000      -0.017045      -0.003954      18.910004   \n",
              "50%        28.890000      -0.005450       0.000806      28.499999   \n",
              "75%        46.270000       0.005000       0.005240      43.170016   \n",
              "max      4411.959960       0.691589       0.114921    4380.000409   \n",
              "std        69.879625       0.025558       0.010167      54.989400   \n",
              "\n",
              "              mkcap          ratio          yield         spread  \\\n",
              "count  3.204890e+05  320489.000000  320489.000000  190722.000000   \n",
              "mean   5.243444e+06       0.648548       0.008033       0.010531   \n",
              "min    5.000212e+04    -485.002094       0.000071      -0.026612   \n",
              "25%    1.671334e+05      -0.833333       0.003783       0.000576   \n",
              "50%    5.290920e+05       0.736928       0.006494       0.003712   \n",
              "75%    2.115568e+06       2.272679       0.010063       0.014440   \n",
              "max    2.813308e+09     922.868789       1.566870       1.173271   \n",
              "std    2.998982e+07       9.395435       0.012393       0.016576   \n",
              "\n",
              "                year  \n",
              "count  320489.000000  \n",
              "mean     1994.459535  \n",
              "min      1962.000000  \n",
              "25%      1982.000000  \n",
              "50%      1995.000000  \n",
              "75%      2008.000000  \n",
              "max      2023.000000  \n",
              "std        16.401700  \n",
              "\n",
              "[8 rows x 21 columns]"
            ]
          },
          "execution_count": 6,
          "metadata": {},
          "output_type": "execute_result"
        }
      ],
      "source": [
        "stats=div.describe()\n",
        "stats"
      ]
    },
    {
      "cell_type": "code",
      "execution_count": null,
      "id": "ddd0c859",
      "metadata": {
        "id": "ddd0c859",
        "outputId": "df5204b4-b8de-41ba-8c62-faa3751d6ba9"
      },
      "outputs": [
        {
          "data": {
            "text/plain": [
              "count    320489.000000\n",
              "mean          0.648548\n",
              "min        -485.002094\n",
              "25%          -0.833333\n",
              "50%           0.736928\n",
              "75%           2.272679\n",
              "max         922.868789\n",
              "std           9.395435\n",
              "Name: ratio, dtype: float64"
            ]
          },
          "execution_count": 6,
          "metadata": {},
          "output_type": "execute_result"
        }
      ],
      "source": [
        "stats['ratio']"
      ]
    },
    {
      "cell_type": "markdown",
      "id": "5bd9be0e",
      "metadata": {
        "id": "5bd9be0e"
      },
      "source": [
        "So the average price drop is only 64% of the amount of the dividend payment -- matches up well to what has been documented in prior work. We see extreme values at the min and the max; may want to windsorize or otherwise handle extreme events like this.\n",
        "\n",
        "This indiates that there could indeed be a profitable \"dividend caputure\" strategy. This is an event where the price response across a large number of observations does not match up to that predicted by the efficient markets hypothesis. We could potentially make money by buying at the close, receiving the dividend, and then selling our shares -- likely we are selling our shares at a loss, but the loss will be less than the amount of the dividend recieved."
      ]
    },
    {
      "cell_type": "markdown",
      "id": "91e7d40a",
      "metadata": {
        "id": "91e7d40a"
      },
      "source": [
        "__Step 2 Part 2: Describe returns to buying close-to-close__"
      ]
    },
    {
      "cell_type": "markdown",
      "id": "c345a6c1",
      "metadata": {
        "id": "c345a6c1"
      },
      "source": [
        "First we need to add the risk-free rate; we can mostly copy the work from HW#2"
      ]
    },
    {
      "cell_type": "code",
      "execution_count": null,
      "id": "72675d7f",
      "metadata": {
        "id": "72675d7f",
        "outputId": "e581f65f-a22c-45fc-cf6c-d7587b081d79"
      },
      "outputs": [
        {
          "data": {
            "text/html": [
              "<div>\n",
              "<style scoped>\n",
              "    .dataframe tbody tr th:only-of-type {\n",
              "        vertical-align: middle;\n",
              "    }\n",
              "\n",
              "    .dataframe tbody tr th {\n",
              "        vertical-align: top;\n",
              "    }\n",
              "\n",
              "    .dataframe thead th {\n",
              "        text-align: right;\n",
              "    }\n",
              "</style>\n",
              "<table border=\"1\" class=\"dataframe\">\n",
              "  <thead>\n",
              "    <tr style=\"text-align: right;\">\n",
              "      <th></th>\n",
              "      <th>Date</th>\n",
              "      <th>Open</th>\n",
              "      <th>High</th>\n",
              "      <th>Low</th>\n",
              "      <th>Close</th>\n",
              "      <th>Adj Close</th>\n",
              "      <th>Volume</th>\n",
              "    </tr>\n",
              "  </thead>\n",
              "  <tbody>\n",
              "    <tr>\n",
              "      <th>0</th>\n",
              "      <td>1960-01-04</td>\n",
              "      <td>4.52</td>\n",
              "      <td>4.52</td>\n",
              "      <td>4.52</td>\n",
              "      <td>4.52</td>\n",
              "      <td>4.52</td>\n",
              "      <td>0.0</td>\n",
              "    </tr>\n",
              "    <tr>\n",
              "      <th>1</th>\n",
              "      <td>1960-01-05</td>\n",
              "      <td>4.55</td>\n",
              "      <td>4.55</td>\n",
              "      <td>4.55</td>\n",
              "      <td>4.55</td>\n",
              "      <td>4.55</td>\n",
              "      <td>0.0</td>\n",
              "    </tr>\n",
              "    <tr>\n",
              "      <th>2</th>\n",
              "      <td>1960-01-06</td>\n",
              "      <td>4.68</td>\n",
              "      <td>4.68</td>\n",
              "      <td>4.68</td>\n",
              "      <td>4.68</td>\n",
              "      <td>4.68</td>\n",
              "      <td>0.0</td>\n",
              "    </tr>\n",
              "    <tr>\n",
              "      <th>3</th>\n",
              "      <td>1960-01-07</td>\n",
              "      <td>4.63</td>\n",
              "      <td>4.63</td>\n",
              "      <td>4.63</td>\n",
              "      <td>4.63</td>\n",
              "      <td>4.63</td>\n",
              "      <td>0.0</td>\n",
              "    </tr>\n",
              "    <tr>\n",
              "      <th>4</th>\n",
              "      <td>1960-01-08</td>\n",
              "      <td>4.59</td>\n",
              "      <td>4.59</td>\n",
              "      <td>4.59</td>\n",
              "      <td>4.59</td>\n",
              "      <td>4.59</td>\n",
              "      <td>0.0</td>\n",
              "    </tr>\n",
              "  </tbody>\n",
              "</table>\n",
              "</div>"
            ],
            "text/plain": [
              "        Date  Open  High   Low  Close  Adj Close  Volume\n",
              "0 1960-01-04  4.52  4.52  4.52   4.52       4.52     0.0\n",
              "1 1960-01-05  4.55  4.55  4.55   4.55       4.55     0.0\n",
              "2 1960-01-06  4.68  4.68  4.68   4.68       4.68     0.0\n",
              "3 1960-01-07  4.63  4.63  4.63   4.63       4.63     0.0\n",
              "4 1960-01-08  4.59  4.59  4.59   4.59       4.59     0.0"
            ]
          },
          "execution_count": 7,
          "metadata": {},
          "output_type": "execute_result"
        }
      ],
      "source": [
        "irx = pd.read_csv('^IRX.csv',  parse_dates=[0])\n",
        "irx.head()"
      ]
    },
    {
      "cell_type": "code",
      "execution_count": null,
      "id": "59e943d2",
      "metadata": {
        "id": "59e943d2"
      },
      "outputs": [],
      "source": [
        "irx = pd.read_csv('^IRX.csv',  parse_dates=[0])\n",
        "irx['Tbill yield'] = irx['Close']\n",
        "irx['Tbill yield filled'] = irx['Tbill yield'].fillna(method='ffill')\n",
        "irx['dow'] = irx['Date'].dt.dayofweek\n",
        "irx['lagdow'] = irx['dow'].shift()\n",
        "irx['numdays'] = 1\n",
        "irx.loc[irx['dow'] > (irx['lagdow']+1), 'numdays'] = irx['dow'] - irx['lagdow']\n",
        "irx.loc[irx['dow'] < irx['lagdow'], 'numdays'] = 3 + irx['dow'] + (4 - irx['lagdow'])\n",
        "irx.loc['2001-09-17','numdays'] = 7\n",
        "irx['Tbill ret'] = irx['Tbill yield filled'].shift() * irx['numdays'] / 365 / 100"
      ]
    },
    {
      "cell_type": "code",
      "execution_count": null,
      "id": "2e345135",
      "metadata": {
        "id": "2e345135"
      },
      "outputs": [],
      "source": [
        "irx = irx[['Date','Tbill ret']]\n",
        "irx.rename(columns={\"Date\": \"date\"},inplace=True)"
      ]
    },
    {
      "cell_type": "code",
      "execution_count": null,
      "id": "24ce9d5a",
      "metadata": {
        "id": "24ce9d5a"
      },
      "outputs": [],
      "source": [
        "div.sort_values(by='date',inplace=True)"
      ]
    },
    {
      "cell_type": "markdown",
      "id": "e676f358",
      "metadata": {
        "id": "e676f358"
      },
      "source": [
        "Our events aren't sorted by date; nor are they consecutive days. So we can't just port over the column from one data set to the other as we did in homework 2. Here a merge is more appropriate."
      ]
    },
    {
      "cell_type": "code",
      "execution_count": null,
      "id": "b622e313",
      "metadata": {
        "id": "b622e313"
      },
      "outputs": [],
      "source": [
        "div = div.merge(irx, how='left', on=['date'])"
      ]
    },
    {
      "cell_type": "code",
      "execution_count": null,
      "id": "fd2bdfea",
      "metadata": {
        "id": "fd2bdfea"
      },
      "outputs": [],
      "source": [
        "div['ex ret'] = div['RET'] - div['Tbill ret']\n",
        "stats=div.describe()"
      ]
    },
    {
      "cell_type": "code",
      "execution_count": null,
      "id": "8d8f29d9",
      "metadata": {
        "id": "8d8f29d9",
        "outputId": "ab0845b9-e0a3-4fa6-9f2e-4a70e466a84b"
      },
      "outputs": [
        {
          "name": "stdout",
          "output_type": "stream",
          "text": [
            "Annualized return:  0.6089028407714461\n",
            "Annualized standard deviation:  0.35818097546428385\n"
          ]
        }
      ],
      "source": [
        "print('Annualized return: ',stats.loc['mean','RET']*252)\n",
        "print('Annualized standard deviation: ', stats.loc['std','RET']*252**0.5)"
      ]
    },
    {
      "cell_type": "code",
      "execution_count": null,
      "id": "27ad3fdc",
      "metadata": {
        "id": "27ad3fdc"
      },
      "outputs": [],
      "source": [
        "t=stats.loc['mean','RET']*stats.loc['count','RET']**0.5/stats.loc['std','RET']\n",
        "sharpe = stats.loc['mean','ex ret']/stats.loc['std','RET']"
      ]
    },
    {
      "cell_type": "code",
      "execution_count": null,
      "id": "28e86a07",
      "metadata": {
        "id": "28e86a07",
        "outputId": "cef0457b-5c48-4200-bca3-519b2516c64f"
      },
      "outputs": [
        {
          "data": {
            "text/plain": [
              "60.62500381755986"
            ]
          },
          "execution_count": 15,
          "metadata": {},
          "output_type": "execute_result"
        }
      ],
      "source": [
        "t"
      ]
    },
    {
      "cell_type": "code",
      "execution_count": null,
      "id": "8632ff4d",
      "metadata": {
        "id": "8632ff4d",
        "outputId": "dbe90cdc-d63d-4877-f00a-13ac74cfd5be"
      },
      "outputs": [
        {
          "data": {
            "text/plain": [
              "1.614393066979313"
            ]
          },
          "execution_count": 16,
          "metadata": {},
          "output_type": "execute_result"
        }
      ],
      "source": [
        "sharpe*252**0.5"
      ]
    },
    {
      "cell_type": "markdown",
      "id": "70372225",
      "metadata": {
        "id": "70372225"
      },
      "source": [
        "The results here are promising. If we were to just buy stocks at the close prior to their ex-div day, and sell at the subsequent close, we earn the RET (which is the price change plus the dividend). That annualized return is quite large at 60.9%. The standard deviation of those returns is also large, annualized at 35.8%. (Note that this is across events, not across days.)\n",
        "\n",
        "The t-stat on whether this event return is different from zero is 60.6 (!!) and a \"Sharpe\" ratio across events comes in at 1.61 -- quite promising!"
      ]
    },
    {
      "cell_type": "markdown",
      "id": "a8be3e11",
      "metadata": {
        "id": "a8be3e11"
      },
      "source": [
        "__Step 3: Add betas and correct for CAPM__"
      ]
    },
    {
      "cell_type": "markdown",
      "id": "cee5b24c",
      "metadata": {
        "id": "cee5b24c"
      },
      "source": [
        "I'll read in the betas, construct a year variable for merging (making sure to match the beta from the prior year to all the events for the subsequent year), and sort by PERMNO and YEAR for the merge. I'll also sort my dividend data."
      ]
    },
    {
      "cell_type": "code",
      "execution_count": null,
      "id": "489de407",
      "metadata": {
        "id": "489de407"
      },
      "outputs": [],
      "source": [
        "betas = pd.read_csv('Yearly Betas.csv',parse_dates=[1])"
      ]
    },
    {
      "cell_type": "code",
      "execution_count": null,
      "id": "6af99dcd",
      "metadata": {
        "id": "6af99dcd"
      },
      "outputs": [],
      "source": [
        "betas=betas[['PERMNO','DATE','b_mkt']]\n",
        "betas['YEAR'] = pd.DatetimeIndex(betas['DATE']).year\n",
        "betas['YEAR'] = betas['YEAR'] +1\n",
        "betas.drop(['DATE'],axis=1,inplace=True)\n",
        "betas.sort_values(by=['PERMNO','YEAR'],inplace=True)"
      ]
    },
    {
      "cell_type": "code",
      "execution_count": null,
      "id": "75e64c65",
      "metadata": {
        "id": "75e64c65"
      },
      "outputs": [],
      "source": [
        "div['YEAR']=pd.DatetimeIndex(div['date']).year\n",
        "div.sort_values(by=['PERMNO','YEAR'],inplace=True)"
      ]
    },
    {
      "cell_type": "code",
      "execution_count": null,
      "id": "d3315b1f",
      "metadata": {
        "id": "d3315b1f",
        "outputId": "80d8df69-fb9d-4de2-f33d-e3ffcfa46e00"
      },
      "outputs": [
        {
          "data": {
            "text/html": [
              "<div>\n",
              "<style scoped>\n",
              "    .dataframe tbody tr th:only-of-type {\n",
              "        vertical-align: middle;\n",
              "    }\n",
              "\n",
              "    .dataframe tbody tr th {\n",
              "        vertical-align: top;\n",
              "    }\n",
              "\n",
              "    .dataframe thead th {\n",
              "        text-align: right;\n",
              "    }\n",
              "</style>\n",
              "<table border=\"1\" class=\"dataframe\">\n",
              "  <thead>\n",
              "    <tr style=\"text-align: right;\">\n",
              "      <th></th>\n",
              "      <th>PERMNO</th>\n",
              "      <th>b_mkt</th>\n",
              "      <th>YEAR</th>\n",
              "    </tr>\n",
              "  </thead>\n",
              "  <tbody>\n",
              "    <tr>\n",
              "      <th>0</th>\n",
              "      <td>10001</td>\n",
              "      <td>0.0730</td>\n",
              "      <td>1989</td>\n",
              "    </tr>\n",
              "    <tr>\n",
              "      <th>1</th>\n",
              "      <td>10001</td>\n",
              "      <td>0.0799</td>\n",
              "      <td>1990</td>\n",
              "    </tr>\n",
              "    <tr>\n",
              "      <th>2</th>\n",
              "      <td>10001</td>\n",
              "      <td>0.0986</td>\n",
              "      <td>1991</td>\n",
              "    </tr>\n",
              "    <tr>\n",
              "      <th>3</th>\n",
              "      <td>10001</td>\n",
              "      <td>-0.0132</td>\n",
              "      <td>1992</td>\n",
              "    </tr>\n",
              "    <tr>\n",
              "      <th>4</th>\n",
              "      <td>10001</td>\n",
              "      <td>-0.0178</td>\n",
              "      <td>1993</td>\n",
              "    </tr>\n",
              "  </tbody>\n",
              "</table>\n",
              "</div>"
            ],
            "text/plain": [
              "   PERMNO   b_mkt  YEAR\n",
              "0   10001  0.0730  1989\n",
              "1   10001  0.0799  1990\n",
              "2   10001  0.0986  1991\n",
              "3   10001 -0.0132  1992\n",
              "4   10001 -0.0178  1993"
            ]
          },
          "execution_count": 20,
          "metadata": {},
          "output_type": "execute_result"
        }
      ],
      "source": [
        "betas.head()"
      ]
    },
    {
      "cell_type": "code",
      "execution_count": null,
      "id": "024491d4",
      "metadata": {
        "id": "024491d4"
      },
      "outputs": [],
      "source": [
        "div = div.merge(betas, how='left', on=['PERMNO','YEAR'])"
      ]
    },
    {
      "cell_type": "markdown",
      "id": "551128c8",
      "metadata": {
        "id": "551128c8"
      },
      "source": [
        "Here I'm going to create a new data set that removes those events where we couldn't match a beta. I don't necessarily want to drop those permanently though."
      ]
    },
    {
      "cell_type": "code",
      "execution_count": null,
      "id": "89bb2bcb",
      "metadata": {
        "id": "89bb2bcb"
      },
      "outputs": [],
      "source": [
        "div_betas = div.dropna(subset=['b_mkt'])"
      ]
    },
    {
      "cell_type": "code",
      "execution_count": null,
      "id": "bdd39166",
      "metadata": {
        "id": "bdd39166",
        "outputId": "a127e824-4e3f-4d47-d3aa-ca75c340b589"
      },
      "outputs": [
        {
          "name": "stderr",
          "output_type": "stream",
          "text": [
            "<ipython-input-23-0d1937b50284>:1: SettingWithCopyWarning: \n",
            "A value is trying to be set on a copy of a slice from a DataFrame.\n",
            "Try using .loc[row_indexer,col_indexer] = value instead\n",
            "\n",
            "See the caveats in the documentation: https://pandas.pydata.org/pandas-docs/stable/user_guide/indexing.html#returning-a-view-versus-a-copy\n",
            "  div_betas['capm_ret'] = div_betas['b_mkt']*(div_betas['vwretd'] - div_betas['Tbill ret'])\n",
            "<ipython-input-23-0d1937b50284>:2: SettingWithCopyWarning: \n",
            "A value is trying to be set on a copy of a slice from a DataFrame.\n",
            "Try using .loc[row_indexer,col_indexer] = value instead\n",
            "\n",
            "See the caveats in the documentation: https://pandas.pydata.org/pandas-docs/stable/user_guide/indexing.html#returning-a-view-versus-a-copy\n",
            "  div_betas['ab_ret'] = div_betas['ex ret'] - div_betas['capm_ret']\n"
          ]
        }
      ],
      "source": [
        "div_betas['capm_ret'] = div_betas['b_mkt']*(div_betas['vwretd'] - div_betas['Tbill ret'])\n",
        "div_betas['ab_ret'] = div_betas['ex ret'] - div_betas['capm_ret']\n",
        "stats = div_betas.describe()"
      ]
    },
    {
      "cell_type": "code",
      "execution_count": null,
      "id": "aa4de4ad",
      "metadata": {
        "id": "aa4de4ad",
        "outputId": "5e616732-c796-462e-d975-038fdd985fd3"
      },
      "outputs": [
        {
          "name": "stdout",
          "output_type": "stream",
          "text": [
            "Annualized return:  0.48748035662154665\n",
            "Annualized standard deviation:  0.32880022740972936\n",
            "Average beta:  0.9661402008805072\n"
          ]
        }
      ],
      "source": [
        "print('Annualized return: ',stats.loc['mean','ab_ret']*252)\n",
        "print('Annualized standard deviation: ', stats.loc['std','ab_ret']*252**0.5)\n",
        "print('Average beta: ', stats.loc['mean','b_mkt'])"
      ]
    },
    {
      "cell_type": "code",
      "execution_count": null,
      "id": "6c3b5da6",
      "metadata": {
        "id": "6c3b5da6",
        "outputId": "97f4c196-5a90-4a74-f38f-0eff8c104f25"
      },
      "outputs": [
        {
          "data": {
            "text/plain": [
              "50.692454853893935"
            ]
          },
          "execution_count": 25,
          "metadata": {},
          "output_type": "execute_result"
        }
      ],
      "source": [
        "t=stats.loc['mean','ab_ret']*stats.loc['count','ab_ret']**0.5/stats.loc['std','ab_ret']\n",
        "t"
      ]
    },
    {
      "cell_type": "code",
      "execution_count": null,
      "id": "d5a7c190",
      "metadata": {
        "id": "d5a7c190",
        "outputId": "6988ed72-ab1d-4765-d238-a5c422e98254"
      },
      "outputs": [
        {
          "data": {
            "text/plain": [
              "1.3701242741206974"
            ]
          },
          "execution_count": 26,
          "metadata": {},
          "output_type": "execute_result"
        }
      ],
      "source": [
        "sharpe = stats.loc['mean','ab_ret']/stats.loc['std','RET']\n",
        "sharpe*252**0.5"
      ]
    },
    {
      "cell_type": "markdown",
      "id": "e4709cce",
      "metadata": {
        "id": "e4709cce"
      },
      "source": [
        "Results are as we might expect. Returns are lower than before, because some of the return we were capturing wasn't due to the dividend capture event but rather the upward drift of the market over the course of the day, as noted in the literature. We have successfully adjusted for this by removing the CAPM expected return and examining the residual (abnormal return).\n",
        "\n",
        "Those returns are still 48% per year, much higher than zero, and significantly so with a t-stat of 50. The \"Sharpe\" ratio is also lower than before, as we would expect."
      ]
    },
    {
      "cell_type": "markdown",
      "id": "2b5edbf3",
      "metadata": {
        "id": "2b5edbf3"
      },
      "source": [
        "__Step 4: compute a strategy of buying at prior close and selling at the open__"
      ]
    },
    {
      "cell_type": "markdown",
      "id": "477651e3",
      "metadata": {
        "id": "477651e3"
      },
      "source": [
        "This is relatively simple; we buy at the prior close, and receive the open price plus the dividend payment. We will have to calculate this return ourselves however; niether the RET nor RETX is the right number here as those represent close-to-close returns.\n",
        "\n",
        "Note that here I have gone back to using the full sample, without removing the events that didn't have a beta matched."
      ]
    },
    {
      "cell_type": "code",
      "execution_count": null,
      "id": "07c2d2bb",
      "metadata": {
        "scrolled": true,
        "id": "07c2d2bb"
      },
      "outputs": [],
      "source": [
        "div['CO_ret'] = (div['OPENPRC'] + div['DIVAMT']) / div['PriorClose'] -1\n",
        "stats = div.describe()"
      ]
    },
    {
      "cell_type": "code",
      "execution_count": null,
      "id": "3f96fc3e",
      "metadata": {
        "id": "3f96fc3e",
        "outputId": "46849c77-ab95-4f88-de24-a89272b8642c"
      },
      "outputs": [
        {
          "name": "stdout",
          "output_type": "stream",
          "text": [
            "Annualized return:  0.3948827134300498\n",
            "Annualized standard deviation:  0.23581282782141816\n"
          ]
        }
      ],
      "source": [
        "print('Annualized return: ',stats.loc['mean','CO_ret']*252)\n",
        "print('Annualized standard deviation: ', stats.loc['std','CO_ret']*252**0.5)"
      ]
    },
    {
      "cell_type": "code",
      "execution_count": null,
      "id": "04243472",
      "metadata": {
        "id": "04243472"
      },
      "outputs": [],
      "source": [
        "t=stats.loc['mean','CO_ret']*stats.loc['count','CO_ret']**0.5/stats.loc['std','CO_ret']\n",
        "sharpe = stats.loc['mean','CO_ret']/stats.loc['std','CO_ret']"
      ]
    },
    {
      "cell_type": "code",
      "execution_count": null,
      "id": "892a473a",
      "metadata": {
        "id": "892a473a",
        "outputId": "c8d274ae-3945-4013-c020-c3561b3bc79a"
      },
      "outputs": [
        {
          "data": {
            "text/plain": [
              "44.72452608152515"
            ]
          },
          "execution_count": 31,
          "metadata": {},
          "output_type": "execute_result"
        }
      ],
      "source": [
        "t"
      ]
    },
    {
      "cell_type": "code",
      "execution_count": null,
      "id": "8549c66a",
      "metadata": {
        "id": "8549c66a",
        "outputId": "2415dfc4-0fac-4ba2-c816-c0c697e18ba0"
      },
      "outputs": [
        {
          "data": {
            "text/plain": [
              "1.674559934157169"
            ]
          },
          "execution_count": 32,
          "metadata": {},
          "output_type": "execute_result"
        }
      ],
      "source": [
        "sharpe*252**0.5"
      ]
    },
    {
      "cell_type": "markdown",
      "id": "bfabe9e3",
      "metadata": {
        "id": "bfabe9e3"
      },
      "source": [
        "Results relatively consistent here; returns a bit lower, and volatility also lower than our CAPM-corrected residuals."
      ]
    },
    {
      "cell_type": "markdown",
      "id": "d43f4ffd",
      "metadata": {
        "id": "d43f4ffd"
      },
      "source": [
        "__Step 5: account for transaction costs__"
      ]
    },
    {
      "cell_type": "markdown",
      "id": "337a1d72",
      "metadata": {
        "id": "337a1d72"
      },
      "source": [
        "The Kalay paper proposes that transaction costs are responsible for the lower price drop than predicted by efficient markets. That is, arbitrageurs are not capturing this spread because it is too costly to trade these stocks and the transaction costs will eat up all of the expected return. We can test that by simply subracting off the transaction costs from the full-day returns.\n",
        "\n",
        "Note that here we are using the spread from the close at the end of the event day. To be precise, we should use the bid/ask spread from both the day prior and the event day (and average the two). This is okay as long as the spread as a percent is stable over time (and evidence supports that)."
      ]
    },
    {
      "cell_type": "code",
      "execution_count": null,
      "id": "1839560b",
      "metadata": {
        "id": "1839560b"
      },
      "outputs": [],
      "source": [
        "div['tcost']=div['RET']-div['spread']"
      ]
    },
    {
      "cell_type": "code",
      "execution_count": null,
      "id": "72ed5fb8",
      "metadata": {
        "id": "72ed5fb8",
        "outputId": "ea64c3a3-60d4-4830-e59d-a2e4cc709508"
      },
      "outputs": [
        {
          "data": {
            "text/plain": [
              "count    190722.000000\n",
              "mean         -0.007891\n",
              "std           0.028642\n",
              "min          -1.315794\n",
              "25%          -0.019263\n",
              "50%          -0.005080\n",
              "75%           0.006060\n",
              "max           0.694063\n",
              "Name: tcost, dtype: float64"
            ]
          },
          "execution_count": 34,
          "metadata": {},
          "output_type": "execute_result"
        }
      ],
      "source": [
        "div['tcost'].describe()"
      ]
    },
    {
      "cell_type": "markdown",
      "id": "9fd812a0",
      "metadata": {
        "id": "9fd812a0"
      },
      "source": [
        "This supports the Kalay observation. Once we account for the bid/ask spread, our returns are actually negative! And actually pretty close to zero -- it comes to about -2% annualized. So this makes sense in the end -- prices don't adjust fully, but what looks like a compelling opportunity on paper won't work in reality once we incorporate the necessary transaction costs."
      ]
    },
    {
      "cell_type": "markdown",
      "id": "409490f0",
      "metadata": {
        "id": "409490f0"
      },
      "source": [
        "__Step 6: rank by a metric__"
      ]
    },
    {
      "cell_type": "markdown",
      "id": "5e8d336c",
      "metadata": {
        "id": "5e8d336c"
      },
      "source": [
        "Here we want to use a ranking procedure and see if we can sort the data in a way that might lead to better opportunities. I wrote a function that will take the metric of interest and then do the ranking and output some useful information. This will make it easy to look at a variety of metrics.\n",
        "\n",
        "The function will output the results grouped by decile for the ranking metric itself; the returns for that decile; the average spread for that decile; and the after-transaction costs return for that decile. We are interested to see if we can find a spread for the last item here."
      ]
    },
    {
      "cell_type": "code",
      "execution_count": null,
      "id": "84348ac3",
      "metadata": {
        "id": "84348ac3"
      },
      "outputs": [],
      "source": [
        "def deciles(metric):\n",
        "    div['QUINTILE'] = pd.qcut(div[metric],q=10, labels=range(1,11))\n",
        "    print('Metric: ', div.groupby(['QUINTILE'])[metric].mean() )\n",
        "    print()\n",
        "    print('Returns: ', div.groupby(['QUINTILE'])['RET'].mean() )\n",
        "    print()\n",
        "    print('Spreads: ', div.groupby(['QUINTILE'])['spread'].mean())\n",
        "    print()\n",
        "    print('After costs: ', div.groupby(['QUINTILE'])['tcost'].mean() )"
      ]
    },
    {
      "cell_type": "markdown",
      "id": "bfcca046",
      "metadata": {
        "id": "bfcca046"
      },
      "source": [
        "One idea might be market cap -- small stocks might be a less efficient space and allow for greater returns to persist. Let's check!"
      ]
    },
    {
      "cell_type": "code",
      "execution_count": null,
      "id": "ab88a401",
      "metadata": {
        "id": "ab88a401",
        "outputId": "e51fa756-d84c-4229-bd02-e3b333350bf4"
      },
      "outputs": [
        {
          "name": "stdout",
          "output_type": "stream",
          "text": [
            "Metric:  QUINTILE\n",
            "1     6.564689e+04\n",
            "2     1.062130e+05\n",
            "3     1.683883e+05\n",
            "4     2.645698e+05\n",
            "5     4.205461e+05\n",
            "6     6.836939e+05\n",
            "7     1.153327e+06\n",
            "8     2.174753e+06\n",
            "9     5.052452e+06\n",
            "10    4.234471e+07\n",
            "Name: mkcap, dtype: float64\n",
            "\n",
            "Returns:  QUINTILE\n",
            "1     0.003733\n",
            "2     0.003367\n",
            "3     0.003422\n",
            "4     0.002753\n",
            "5     0.002436\n",
            "6     0.002327\n",
            "7     0.001814\n",
            "8     0.001653\n",
            "9     0.001530\n",
            "10    0.001129\n",
            "Name: RET, dtype: float64\n",
            "\n",
            "Spreads:  QUINTILE\n",
            "1     0.031958\n",
            "2     0.025189\n",
            "3     0.018629\n",
            "4     0.014272\n",
            "5     0.010890\n",
            "6     0.007928\n",
            "7     0.006186\n",
            "8     0.004445\n",
            "9     0.003270\n",
            "10    0.001965\n",
            "Name: spread, dtype: float64\n",
            "\n",
            "After costs:  QUINTILE\n",
            "1    -0.026479\n",
            "2    -0.020768\n",
            "3    -0.014359\n",
            "4    -0.010995\n",
            "5    -0.007790\n",
            "6    -0.005106\n",
            "7    -0.004306\n",
            "8    -0.002877\n",
            "9    -0.001776\n",
            "10   -0.000822\n",
            "Name: tcost, dtype: float64\n"
          ]
        }
      ],
      "source": [
        "deciles('mkcap')"
      ]
    },
    {
      "cell_type": "markdown",
      "id": "68422e34",
      "metadata": {
        "id": "68422e34"
      },
      "source": [
        "Interesting -- small cap stocks (starting in decile 1) show returns to this event three times as large as the largest cap stocks! However, it is also more costly to trade small cap stocks. The average spread is about 15 times as large! So when we look at the after cost returns, the smallest decile actually shows the worst returns, and the largest shows the best. Returns are negative across all deciles, however."
      ]
    },
    {
      "cell_type": "code",
      "execution_count": null,
      "id": "5dd73576",
      "metadata": {
        "id": "5dd73576",
        "outputId": "6bd72002-90dc-4fea-aa9a-04b01236e7c8"
      },
      "outputs": [
        {
          "name": "stdout",
          "output_type": "stream",
          "text": [
            "Metric:  QUINTILE\n",
            "1     0.158589\n",
            "2     0.439477\n",
            "3     0.610723\n",
            "4     0.751539\n",
            "5     0.876915\n",
            "6     0.998009\n",
            "7     1.124582\n",
            "8     1.272629\n",
            "9     1.472352\n",
            "10    1.957031\n",
            "Name: b_mkt, dtype: float64\n",
            "\n",
            "Returns:  QUINTILE\n",
            "1     0.002890\n",
            "2     0.002042\n",
            "3     0.002143\n",
            "4     0.002347\n",
            "5     0.002248\n",
            "6     0.002526\n",
            "7     0.002424\n",
            "8     0.002317\n",
            "9     0.002474\n",
            "10    0.002268\n",
            "Name: RET, dtype: float64\n",
            "\n",
            "Spreads:  QUINTILE\n",
            "1     0.014030\n",
            "2     0.012590\n",
            "3     0.011202\n",
            "4     0.010428\n",
            "5     0.009441\n",
            "6     0.009188\n",
            "7     0.008458\n",
            "8     0.007269\n",
            "9     0.006758\n",
            "10    0.005703\n",
            "Name: spread, dtype: float64\n",
            "\n",
            "After costs:  QUINTILE\n",
            "1    -0.010706\n",
            "2    -0.009542\n",
            "3    -0.008500\n",
            "4    -0.007742\n",
            "5    -0.006979\n",
            "6    -0.006615\n",
            "7    -0.006282\n",
            "8    -0.005276\n",
            "9    -0.004772\n",
            "10   -0.003893\n",
            "Name: tcost, dtype: float64\n"
          ]
        }
      ],
      "source": [
        "deciles('b_mkt')"
      ]
    },
    {
      "cell_type": "markdown",
      "id": "702a9e03",
      "metadata": {
        "id": "702a9e03"
      },
      "source": [
        "Not too much going on with beta; the highest beta stocks are the cheapest to trade, and therefore have the best after-cost returns, but still negative."
      ]
    },
    {
      "cell_type": "code",
      "execution_count": null,
      "id": "cfb42ab5",
      "metadata": {
        "id": "cfb42ab5",
        "outputId": "83c7c8df-8d20-4a0b-dcc9-472bbb1ab905"
      },
      "outputs": [
        {
          "name": "stdout",
          "output_type": "stream",
          "text": [
            "Metric:  QUINTILE\n",
            "1     0.001407\n",
            "2     0.002715\n",
            "3     0.003783\n",
            "4     0.004835\n",
            "5     0.005923\n",
            "6     0.007093\n",
            "7     0.008407\n",
            "8     0.010098\n",
            "9     0.012698\n",
            "10    0.023369\n",
            "Name: yield, dtype: float64\n",
            "\n",
            "Returns:  QUINTILE\n",
            "1     0.000844\n",
            "2     0.001716\n",
            "3     0.002073\n",
            "4     0.002406\n",
            "5     0.002831\n",
            "6     0.003105\n",
            "7     0.003281\n",
            "8     0.003327\n",
            "9     0.003275\n",
            "10    0.001304\n",
            "Name: RET, dtype: float64\n",
            "\n",
            "Spreads:  QUINTILE\n",
            "1     0.008163\n",
            "2     0.009207\n",
            "3     0.009742\n",
            "4     0.010481\n",
            "5     0.010898\n",
            "6     0.011228\n",
            "7     0.011602\n",
            "8     0.012281\n",
            "9     0.012829\n",
            "10    0.011811\n",
            "Name: spread, dtype: float64\n",
            "\n",
            "After costs:  QUINTILE\n",
            "1    -0.007424\n",
            "2    -0.007569\n",
            "3    -0.007721\n",
            "4    -0.007973\n",
            "5    -0.008021\n",
            "6    -0.007850\n",
            "7    -0.007974\n",
            "8    -0.008244\n",
            "9    -0.008733\n",
            "10   -0.008073\n",
            "Name: tcost, dtype: float64\n"
          ]
        }
      ],
      "source": [
        "deciles('yield')"
      ]
    },
    {
      "cell_type": "markdown",
      "id": "b9f42bfa",
      "metadata": {
        "id": "b9f42bfa"
      },
      "source": [
        "The Kalay paper noted some differences in the price change/dividend ratio across yields, and we see that as well. However the higher yielding stocks also have higher spreads. So, everything still negative."
      ]
    },
    {
      "cell_type": "markdown",
      "id": "27430f8c",
      "metadata": {
        "id": "27430f8c"
      },
      "source": [
        "It seems that transaction costs are the real culprit; higher returns (on paper) seem to come along with higher transaction costs. What if we actually sorted on the transaction cost variable itself? Note that I am cheating a little bit here; the spread is forward-looking information and not known prior to the event day. I'm relying on the spread being stable through time (if I sorted on yesterday's spread, I would hope to get very similar results.) But this is an assumption and we would definitely want to check that before proceeding much further."
      ]
    },
    {
      "cell_type": "code",
      "execution_count": null,
      "id": "8014c685",
      "metadata": {
        "id": "8014c685",
        "outputId": "b3c123de-1f93-44ce-85f7-bd717c51041b"
      },
      "outputs": [
        {
          "name": "stdout",
          "output_type": "stream",
          "text": [
            "Metric:  QUINTILE\n",
            "1     0.000099\n",
            "2     0.000321\n",
            "3     0.000584\n",
            "4     0.001112\n",
            "5     0.002487\n",
            "6     0.005487\n",
            "7     0.009448\n",
            "8     0.014578\n",
            "9     0.022979\n",
            "10    0.048265\n",
            "Name: spread, dtype: float64\n",
            "\n",
            "Returns:  QUINTILE\n",
            "1     0.001388\n",
            "2     0.001212\n",
            "3     0.001471\n",
            "4     0.001574\n",
            "5     0.002158\n",
            "6     0.002578\n",
            "7     0.003178\n",
            "8     0.003676\n",
            "9     0.004187\n",
            "10    0.004985\n",
            "Name: RET, dtype: float64\n",
            "\n",
            "Spreads:  QUINTILE\n",
            "1     0.000099\n",
            "2     0.000321\n",
            "3     0.000584\n",
            "4     0.001112\n",
            "5     0.002487\n",
            "6     0.005487\n",
            "7     0.009448\n",
            "8     0.014578\n",
            "9     0.022979\n",
            "10    0.048265\n",
            "Name: spread, dtype: float64\n",
            "\n",
            "After costs:  QUINTILE\n",
            "1     0.001289\n",
            "2     0.000890\n",
            "3     0.000888\n",
            "4     0.000462\n",
            "5    -0.000328\n",
            "6    -0.002909\n",
            "7    -0.006270\n",
            "8    -0.010902\n",
            "9    -0.018792\n",
            "10   -0.043280\n",
            "Name: tcost, dtype: float64\n"
          ]
        }
      ],
      "source": [
        "deciles('spread')"
      ]
    },
    {
      "cell_type": "markdown",
      "id": "3efefe5a",
      "metadata": {
        "id": "3efefe5a"
      },
      "source": [
        "So this is interesting. Spreads rise across deciles (by construction; we've sorted on this). Returns also rise across deciles; The stocks that are most costly to trade also have the highest returns. (This is not quite the same thing as saying that the stocks that have the highest returns also have the highest cost to trade.) As it turns out, the spreads rise much faster than the returns. So perhaps we have a possibility: by focusing on the stocks that are the most liquid and have the lowest spreads, we may uncover a profiatable opportunity."
      ]
    },
    {
      "cell_type": "markdown",
      "id": "2c4d7136",
      "metadata": {
        "id": "2c4d7136"
      },
      "source": [
        "Let's pull out that first decile with the lowest spreads and examine it in more detail."
      ]
    },
    {
      "cell_type": "code",
      "execution_count": null,
      "id": "00f8a99e",
      "metadata": {
        "id": "00f8a99e",
        "outputId": "df296d56-14db-482c-dc3a-a7f56fd948ee"
      },
      "outputs": [
        {
          "name": "stderr",
          "output_type": "stream",
          "text": [
            "<ipython-input-53-cadb99a882d4>:2: SettingWithCopyWarning: \n",
            "A value is trying to be set on a copy of a slice from a DataFrame.\n",
            "Try using .loc[row_indexer,col_indexer] = value instead\n",
            "\n",
            "See the caveats in the documentation: https://pandas.pydata.org/pandas-docs/stable/user_guide/indexing.html#returning-a-view-versus-a-copy\n",
            "  div_liquid['ex ret tcost'] = div_liquid['tcost'] - div_liquid['Tbill ret']\n"
          ]
        }
      ],
      "source": [
        "div_liquid = div[div['QUINTILE'] == 1]\n",
        "div_liquid['ex ret tcost'] = div_liquid['tcost'] - div_liquid['Tbill ret']\n",
        "stats = div_liquid.describe()"
      ]
    },
    {
      "cell_type": "code",
      "execution_count": null,
      "id": "3d460b2b",
      "metadata": {
        "id": "3d460b2b",
        "outputId": "474cd31c-4b7c-44e2-ef51-94164b379401"
      },
      "outputs": [
        {
          "name": "stdout",
          "output_type": "stream",
          "text": [
            "Annualized return:  0.32482246897327344\n",
            "Annualized standard deviation:  0.28999301922038345\n"
          ]
        }
      ],
      "source": [
        "print('Annualized return: ',stats.loc['mean','tcost']*252)\n",
        "print('Annualized standard deviation: ', stats.loc['std','tcost']*252**0.5)"
      ]
    },
    {
      "cell_type": "code",
      "execution_count": null,
      "id": "1c5c7929",
      "metadata": {
        "id": "1c5c7929"
      },
      "outputs": [],
      "source": [
        "t=stats.loc['mean','tcost']*stats.loc['count','tcost']**0.5/stats.loc['std','tcost']\n",
        "sharpe = stats.loc['mean','ex ret tcost']/stats.loc['std','ex ret tcost']*252**0.5"
      ]
    },
    {
      "cell_type": "code",
      "execution_count": null,
      "id": "2d060cb2",
      "metadata": {
        "id": "2d060cb2",
        "outputId": "6ce8e835-e6f6-4d5a-e2e7-46c5bf7e5986"
      },
      "outputs": [
        {
          "data": {
            "text/plain": [
              "9.744683845211572"
            ]
          },
          "execution_count": 50,
          "metadata": {},
          "output_type": "execute_result"
        }
      ],
      "source": [
        "t"
      ]
    },
    {
      "cell_type": "code",
      "execution_count": null,
      "id": "95755aaf",
      "metadata": {
        "id": "95755aaf",
        "outputId": "28bf4819-04da-4b46-ce71-b998d6df7bac"
      },
      "outputs": [
        {
          "data": {
            "text/plain": [
              "1.0916538901340958"
            ]
          },
          "execution_count": 55,
          "metadata": {},
          "output_type": "execute_result"
        }
      ],
      "source": [
        "sharpe"
      ]
    },
    {
      "cell_type": "code",
      "execution_count": null,
      "id": "dbf14bfd",
      "metadata": {
        "id": "dbf14bfd",
        "outputId": "c8fcf05b-69ae-4e2e-e580-51c9a8b9cc27"
      },
      "outputs": [
        {
          "data": {
            "text/plain": [
              "35000631.764542826"
            ]
          },
          "execution_count": 52,
          "metadata": {},
          "output_type": "execute_result"
        }
      ],
      "source": [
        "div_liquid['mkcap'].mean()"
      ]
    },
    {
      "cell_type": "markdown",
      "id": "42615085",
      "metadata": {
        "id": "42615085"
      },
      "source": [
        "Results have definitely deteriorated, but are still positive (32% annualized) with a strong t-stat and compelling Sharpe ratio.\n",
        "\n",
        "What would next steps be? First verify with prior-day spreads to make this an implementable strategy. Then construct a calendar time return series where you average your exposure across all the available dividend payers on a given day. (How do you handle days for which you don't have a dividend event?) Then control for risk, look for out-of-sample evidence, see if spreads/returns have changed over time."
      ]
    }
  ],
  "metadata": {
    "kernelspec": {
      "display_name": "Python 3 (ipykernel)",
      "language": "python",
      "name": "python3"
    },
    "language_info": {
      "codemirror_mode": {
        "name": "ipython",
        "version": 3
      },
      "file_extension": ".py",
      "mimetype": "text/x-python",
      "name": "python",
      "nbconvert_exporter": "python",
      "pygments_lexer": "ipython3",
      "version": "3.12.4"
    },
    "colab": {
      "provenance": []
    }
  },
  "nbformat": 4,
  "nbformat_minor": 5
}